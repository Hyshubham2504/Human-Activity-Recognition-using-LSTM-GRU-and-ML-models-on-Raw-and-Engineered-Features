{
 "cells": [
  {
   "cell_type": "code",
   "execution_count": 1,
   "id": "6efb7786-4d05-412a-950d-f002accb2b6e",
   "metadata": {},
   "outputs": [],
   "source": [
    "import pandas as pd\n",
    "import numpy as np"
   ]
  },
  {
   "cell_type": "code",
   "execution_count": 3,
   "id": "8d79adfc-e6d4-4efe-bfaa-47abc922cc9e",
   "metadata": {},
   "outputs": [],
   "source": [
    "# Activities are the class labels\n",
    "# It is a 6 class classification\n",
    "ACTIVITIES = {\n",
    "    0: 'WALKING',\n",
    "    1: 'WALKING_UPSTAIRS',\n",
    "    2: 'WALKING_DOWNSTAIRS',\n",
    "    3: 'SITTING',\n",
    "    4: 'STANDING',\n",
    "    5: 'LAYING',\n",
    "}\n",
    "\n",
    "# Utility function to print the confusion matrix\n",
    "def confusion_matrix(Y_true, Y_pred):\n",
    "    Y_true = pd.Series([ACTIVITIES[y] for y in np.argmax(Y_true, axis=1)])\n",
    "    Y_pred = pd.Series([ACTIVITIES[y] for y in np.argmax(Y_pred, axis=1)])\n",
    "\n",
    "    return pd.crosstab(Y_true, Y_pred, rownames=['True'], colnames=['Pred'])"
   ]
  },
  {
   "cell_type": "markdown",
   "id": "67c015d2-79db-4a9f-9224-63d256f0f940",
   "metadata": {},
   "source": [
    "### Defining the Data Directory and Signal Files"
   ]
  },
  {
   "cell_type": "code",
   "execution_count": 6,
   "id": "3da37a29-054e-4613-9b9c-6fc339ccb840",
   "metadata": {},
   "outputs": [],
   "source": [
    "# Data directory\n",
    "DATADIR = 'UCI_HAR_Dataset'"
   ]
  },
  {
   "cell_type": "code",
   "execution_count": 8,
   "id": "6a320ed0-b264-47a8-9760-721647cd4e70",
   "metadata": {},
   "outputs": [],
   "source": [
    "# Raw data signals\n",
    "# Signals are from Accelerometer and Gyroscope\n",
    "# The signals are in x,y,z directions\n",
    "# Sensor signals are filtered to have only body acceleration\n",
    "# excluding the acceleration due to gravity\n",
    "# Triaxial acceleration from the accelerometer is total acceleration\n",
    "SIGNALS = [\n",
    "    \"body_acc_x\",\n",
    "    \"body_acc_y\",\n",
    "    \"body_acc_z\",\n",
    "    \"body_gyro_x\",\n",
    "    \"body_gyro_y\",\n",
    "    \"body_gyro_z\",\n",
    "    \"total_acc_x\",\n",
    "    \"total_acc_y\",\n",
    "    \"total_acc_z\"\n",
    "]"
   ]
  },
  {
   "cell_type": "markdown",
   "id": "cf1bf2db-4afa-4866-8a45-dd4eb435cc4c",
   "metadata": {},
   "source": [
    "### Loading the Raw Signal Data for Training and Testing"
   ]
  },
  {
   "cell_type": "code",
   "execution_count": 74,
   "id": "ae4aeaf2-ac7c-4494-a2fa-62eb445af240",
   "metadata": {},
   "outputs": [
    {
     "name": "stdout",
     "output_type": "stream",
     "text": [
      "Shape of X_train: (7352, 128, 9)\n",
      "Shape of y_train: (7352,)\n",
      "Shape of X_test: (2947, 128, 9)\n",
      "Shape of y_test: (2947,)\n"
     ]
    }
   ],
   "source": [
    "import numpy as np\n",
    "import os\n",
    "\n",
    "# Define paths for the train and test sets\n",
    "train_data_path = 'UCI_HAR_Dataset/train/Inertial Signals/'\n",
    "test_data_path = 'UCI_HAR_Dataset/test/Inertial Signals/'\n",
    "\n",
    "# List of signal files for training\n",
    "train_signal_files = ['body_acc_x_train.txt', 'body_acc_y_train.txt', 'body_acc_z_train.txt',\n",
    "                      'body_gyro_x_train.txt', 'body_gyro_y_train.txt', 'body_gyro_z_train.txt',\n",
    "                      'total_acc_x_train.txt', 'total_acc_y_train.txt', 'total_acc_z_train.txt']\n",
    "\n",
    "# List of signal files for testing\n",
    "test_signal_files = ['body_acc_x_test.txt', 'body_acc_y_test.txt', 'body_acc_z_test.txt',\n",
    "                     'body_gyro_x_test.txt', 'body_gyro_y_test.txt', 'body_gyro_z_test.txt',\n",
    "                     'total_acc_x_test.txt', 'total_acc_y_test.txt', 'total_acc_z_test.txt']\n",
    "\n",
    "# Function to load a single file\n",
    "def load_signal_file(file_path):\n",
    "    return np.loadtxt(file_path)\n",
    "\n",
    "# Function to load the X data (train or test)\n",
    "def load_X_data(data_path, signal_files):\n",
    "    X_signals = []\n",
    "    for signal_file in signal_files:\n",
    "        file_path = os.path.join(data_path, signal_file)\n",
    "        signal_data = load_signal_file(file_path)\n",
    "        X_signals.append(signal_data)\n",
    "    # Stack signals along the third dimension (samples, timesteps, signal_features)\n",
    "    return np.stack(X_signals, axis=-1)\n",
    "\n",
    "# Load X_train and X_test\n",
    "X_train = load_X_data(train_data_path, train_signal_files)\n",
    "X_test = load_X_data(test_data_path, test_signal_files)\n",
    "\n",
    "# Load y_train and y_test labels\n",
    "y_train = np.loadtxt('UCI_HAR_Dataset/train/y_train.txt')\n",
    "y_test = np.loadtxt('UCI_HAR_Dataset/test/y_test.txt')\n",
    "\n",
    "# Print shapes to verify\n",
    "print(\"Shape of X_train:\", X_train.shape)  # Expected (7352, 128, 9)\n",
    "print(\"Shape of y_train:\", y_train.shape)  # Expected (7352,)\n",
    "print(\"Shape of X_test:\", X_test.shape)    # Expected (2947, 128, 9)\n",
    "print(\"Shape of y_test:\", y_test.shape)    # Expected (2947,)\n"
   ]
  },
  {
   "cell_type": "markdown",
   "id": "bd0e79cb-bea5-41e7-b8fc-2ad5483465f4",
   "metadata": {},
   "source": [
    "### Flattening the Signal Data for DataFrame Conversion"
   ]
  },
  {
   "cell_type": "code",
   "execution_count": 75,
   "id": "26cd9269-58c7-4ca5-b734-4a3b97b1b99e",
   "metadata": {},
   "outputs": [
    {
     "name": "stdout",
     "output_type": "stream",
     "text": [
      "   signal_0_timestep_0  signal_0_timestep_1  signal_0_timestep_2  \\\n",
      "0             0.000181             0.010767             0.055561   \n",
      "1             0.001094            -0.004688            -0.026860   \n",
      "2             0.003531             0.004456            -0.005915   \n",
      "3            -0.001772            -0.010185             0.001053   \n",
      "4             0.000087            -0.003857            -0.013333   \n",
      "\n",
      "   signal_0_timestep_3  signal_0_timestep_4  signal_0_timestep_5  \\\n",
      "0             0.030191             0.066014             0.022859   \n",
      "1             0.017111             0.006123             0.012268   \n",
      "2             0.026189            -0.000238             0.002159   \n",
      "3            -0.037516            -0.012886            -0.000873   \n",
      "4            -0.019429            -0.008612            -0.001574   \n",
      "\n",
      "   signal_0_timestep_6  signal_0_timestep_7  signal_0_timestep_8  \\\n",
      "0             1.012817            -0.123217             0.102934   \n",
      "1             1.018851            -0.123976             0.097930   \n",
      "2             1.023127            -0.120016             0.091117   \n",
      "3             1.017682            -0.133404             0.095152   \n",
      "4             1.019952            -0.128731             0.080841   \n",
      "\n",
      "   signal_0_timestep_9  ...  signal_8_timestep_118  signal_8_timestep_119  \\\n",
      "0             0.010139  ...               0.099874               0.001576   \n",
      "1             0.004550  ...               0.089035              -0.001599   \n",
      "2             0.002285  ...               0.082334               0.002178   \n",
      "3            -0.001311  ...               0.083275              -0.000028   \n",
      "4            -0.000272  ...               0.085397              -0.003328   \n",
      "\n",
      "   signal_8_timestep_120  signal_8_timestep_121  signal_8_timestep_122  \\\n",
      "0               0.003070              -0.002270               0.028818   \n",
      "1              -0.007192              -0.003397              -0.038650   \n",
      "2              -0.005442              -0.012784              -0.020235   \n",
      "3              -0.001235              -0.004581              -0.007120   \n",
      "4               0.007404               0.004476               0.015605   \n",
      "\n",
      "   signal_8_timestep_123  signal_8_timestep_124  signal_8_timestep_125  \\\n",
      "0              -0.000038              -0.001446               1.021171   \n",
      "1              -0.009440              -0.002798               1.017849   \n",
      "2              -0.008831              -0.002645               1.022019   \n",
      "3               0.001951              -0.012987               1.020735   \n",
      "4               0.010797              -0.010082               1.016787   \n",
      "\n",
      "   signal_8_timestep_126  signal_8_timestep_127  \n",
      "0              -0.121326               0.094987  \n",
      "1              -0.130519               0.090612  \n",
      "2              -0.130183               0.081487  \n",
      "3              -0.133316               0.081404  \n",
      "4              -0.123494               0.088816  \n",
      "\n",
      "[5 rows x 1152 columns]\n"
     ]
    }
   ],
   "source": [
    "import pandas as pd\n",
    "\n",
    "# Reshape the data to (7352 samples, 128 * 9 features)\n",
    "X_train_flattened = X_train.reshape(X_train.shape[0], -1)\n",
    "\n",
    "# Convert the reshaped data to a DataFrame\n",
    "column_names = [f'signal_{i}_timestep_{j}' for i in range(9) for j in range(128)]\n",
    "df = pd.DataFrame(X_train_flattened, columns=column_names)\n",
    "\n",
    "# Display the first few rows of the DataFrame\n",
    "print(df.head())\n"
   ]
  },
  {
   "cell_type": "code",
   "execution_count": 76,
   "id": "785406f7-26b1-479d-9307-e3bb9208166f",
   "metadata": {},
   "outputs": [
    {
     "data": {
      "text/html": [
       "<div>\n",
       "<style scoped>\n",
       "    .dataframe tbody tr th:only-of-type {\n",
       "        vertical-align: middle;\n",
       "    }\n",
       "\n",
       "    .dataframe tbody tr th {\n",
       "        vertical-align: top;\n",
       "    }\n",
       "\n",
       "    .dataframe thead th {\n",
       "        text-align: right;\n",
       "    }\n",
       "</style>\n",
       "<table border=\"1\" class=\"dataframe\">\n",
       "  <thead>\n",
       "    <tr style=\"text-align: right;\">\n",
       "      <th></th>\n",
       "      <th>signal_0_timestep_0</th>\n",
       "      <th>signal_0_timestep_1</th>\n",
       "      <th>signal_0_timestep_2</th>\n",
       "      <th>signal_0_timestep_3</th>\n",
       "      <th>signal_0_timestep_4</th>\n",
       "      <th>signal_0_timestep_5</th>\n",
       "      <th>signal_0_timestep_6</th>\n",
       "      <th>signal_0_timestep_7</th>\n",
       "      <th>signal_0_timestep_8</th>\n",
       "      <th>signal_0_timestep_9</th>\n",
       "      <th>...</th>\n",
       "      <th>signal_8_timestep_118</th>\n",
       "      <th>signal_8_timestep_119</th>\n",
       "      <th>signal_8_timestep_120</th>\n",
       "      <th>signal_8_timestep_121</th>\n",
       "      <th>signal_8_timestep_122</th>\n",
       "      <th>signal_8_timestep_123</th>\n",
       "      <th>signal_8_timestep_124</th>\n",
       "      <th>signal_8_timestep_125</th>\n",
       "      <th>signal_8_timestep_126</th>\n",
       "      <th>signal_8_timestep_127</th>\n",
       "    </tr>\n",
       "  </thead>\n",
       "  <tbody>\n",
       "    <tr>\n",
       "      <th>0</th>\n",
       "      <td>0.000181</td>\n",
       "      <td>0.010767</td>\n",
       "      <td>0.055561</td>\n",
       "      <td>0.030191</td>\n",
       "      <td>0.066014</td>\n",
       "      <td>0.022859</td>\n",
       "      <td>1.012817</td>\n",
       "      <td>-0.123217</td>\n",
       "      <td>0.102934</td>\n",
       "      <td>0.010139</td>\n",
       "      <td>...</td>\n",
       "      <td>0.099874</td>\n",
       "      <td>0.001576</td>\n",
       "      <td>0.003070</td>\n",
       "      <td>-0.002270</td>\n",
       "      <td>0.028818</td>\n",
       "      <td>-0.000038</td>\n",
       "      <td>-0.001446</td>\n",
       "      <td>1.021171</td>\n",
       "      <td>-0.121326</td>\n",
       "      <td>0.094987</td>\n",
       "    </tr>\n",
       "    <tr>\n",
       "      <th>1</th>\n",
       "      <td>0.001094</td>\n",
       "      <td>-0.004688</td>\n",
       "      <td>-0.026860</td>\n",
       "      <td>0.017111</td>\n",
       "      <td>0.006123</td>\n",
       "      <td>0.012268</td>\n",
       "      <td>1.018851</td>\n",
       "      <td>-0.123976</td>\n",
       "      <td>0.097930</td>\n",
       "      <td>0.004550</td>\n",
       "      <td>...</td>\n",
       "      <td>0.089035</td>\n",
       "      <td>-0.001599</td>\n",
       "      <td>-0.007192</td>\n",
       "      <td>-0.003397</td>\n",
       "      <td>-0.038650</td>\n",
       "      <td>-0.009440</td>\n",
       "      <td>-0.002798</td>\n",
       "      <td>1.017849</td>\n",
       "      <td>-0.130519</td>\n",
       "      <td>0.090612</td>\n",
       "    </tr>\n",
       "    <tr>\n",
       "      <th>2</th>\n",
       "      <td>0.003531</td>\n",
       "      <td>0.004456</td>\n",
       "      <td>-0.005915</td>\n",
       "      <td>0.026189</td>\n",
       "      <td>-0.000238</td>\n",
       "      <td>0.002159</td>\n",
       "      <td>1.023127</td>\n",
       "      <td>-0.120016</td>\n",
       "      <td>0.091117</td>\n",
       "      <td>0.002285</td>\n",
       "      <td>...</td>\n",
       "      <td>0.082334</td>\n",
       "      <td>0.002178</td>\n",
       "      <td>-0.005442</td>\n",
       "      <td>-0.012784</td>\n",
       "      <td>-0.020235</td>\n",
       "      <td>-0.008831</td>\n",
       "      <td>-0.002645</td>\n",
       "      <td>1.022019</td>\n",
       "      <td>-0.130183</td>\n",
       "      <td>0.081487</td>\n",
       "    </tr>\n",
       "    <tr>\n",
       "      <th>3</th>\n",
       "      <td>-0.001772</td>\n",
       "      <td>-0.010185</td>\n",
       "      <td>0.001053</td>\n",
       "      <td>-0.037516</td>\n",
       "      <td>-0.012886</td>\n",
       "      <td>-0.000873</td>\n",
       "      <td>1.017682</td>\n",
       "      <td>-0.133404</td>\n",
       "      <td>0.095152</td>\n",
       "      <td>-0.001311</td>\n",
       "      <td>...</td>\n",
       "      <td>0.083275</td>\n",
       "      <td>-0.000028</td>\n",
       "      <td>-0.001235</td>\n",
       "      <td>-0.004581</td>\n",
       "      <td>-0.007120</td>\n",
       "      <td>0.001951</td>\n",
       "      <td>-0.012987</td>\n",
       "      <td>1.020735</td>\n",
       "      <td>-0.133316</td>\n",
       "      <td>0.081404</td>\n",
       "    </tr>\n",
       "    <tr>\n",
       "      <th>4</th>\n",
       "      <td>0.000087</td>\n",
       "      <td>-0.003857</td>\n",
       "      <td>-0.013333</td>\n",
       "      <td>-0.019429</td>\n",
       "      <td>-0.008612</td>\n",
       "      <td>-0.001574</td>\n",
       "      <td>1.019952</td>\n",
       "      <td>-0.128731</td>\n",
       "      <td>0.080841</td>\n",
       "      <td>-0.000272</td>\n",
       "      <td>...</td>\n",
       "      <td>0.085397</td>\n",
       "      <td>-0.003328</td>\n",
       "      <td>0.007404</td>\n",
       "      <td>0.004476</td>\n",
       "      <td>0.015605</td>\n",
       "      <td>0.010797</td>\n",
       "      <td>-0.010082</td>\n",
       "      <td>1.016787</td>\n",
       "      <td>-0.123494</td>\n",
       "      <td>0.088816</td>\n",
       "    </tr>\n",
       "  </tbody>\n",
       "</table>\n",
       "<p>5 rows × 1152 columns</p>\n",
       "</div>"
      ],
      "text/plain": [
       "   signal_0_timestep_0  signal_0_timestep_1  signal_0_timestep_2  \\\n",
       "0             0.000181             0.010767             0.055561   \n",
       "1             0.001094            -0.004688            -0.026860   \n",
       "2             0.003531             0.004456            -0.005915   \n",
       "3            -0.001772            -0.010185             0.001053   \n",
       "4             0.000087            -0.003857            -0.013333   \n",
       "\n",
       "   signal_0_timestep_3  signal_0_timestep_4  signal_0_timestep_5  \\\n",
       "0             0.030191             0.066014             0.022859   \n",
       "1             0.017111             0.006123             0.012268   \n",
       "2             0.026189            -0.000238             0.002159   \n",
       "3            -0.037516            -0.012886            -0.000873   \n",
       "4            -0.019429            -0.008612            -0.001574   \n",
       "\n",
       "   signal_0_timestep_6  signal_0_timestep_7  signal_0_timestep_8  \\\n",
       "0             1.012817            -0.123217             0.102934   \n",
       "1             1.018851            -0.123976             0.097930   \n",
       "2             1.023127            -0.120016             0.091117   \n",
       "3             1.017682            -0.133404             0.095152   \n",
       "4             1.019952            -0.128731             0.080841   \n",
       "\n",
       "   signal_0_timestep_9  ...  signal_8_timestep_118  signal_8_timestep_119  \\\n",
       "0             0.010139  ...               0.099874               0.001576   \n",
       "1             0.004550  ...               0.089035              -0.001599   \n",
       "2             0.002285  ...               0.082334               0.002178   \n",
       "3            -0.001311  ...               0.083275              -0.000028   \n",
       "4            -0.000272  ...               0.085397              -0.003328   \n",
       "\n",
       "   signal_8_timestep_120  signal_8_timestep_121  signal_8_timestep_122  \\\n",
       "0               0.003070              -0.002270               0.028818   \n",
       "1              -0.007192              -0.003397              -0.038650   \n",
       "2              -0.005442              -0.012784              -0.020235   \n",
       "3              -0.001235              -0.004581              -0.007120   \n",
       "4               0.007404               0.004476               0.015605   \n",
       "\n",
       "   signal_8_timestep_123  signal_8_timestep_124  signal_8_timestep_125  \\\n",
       "0              -0.000038              -0.001446               1.021171   \n",
       "1              -0.009440              -0.002798               1.017849   \n",
       "2              -0.008831              -0.002645               1.022019   \n",
       "3               0.001951              -0.012987               1.020735   \n",
       "4               0.010797              -0.010082               1.016787   \n",
       "\n",
       "   signal_8_timestep_126  signal_8_timestep_127  \n",
       "0              -0.121326               0.094987  \n",
       "1              -0.130519               0.090612  \n",
       "2              -0.130183               0.081487  \n",
       "3              -0.133316               0.081404  \n",
       "4              -0.123494               0.088816  \n",
       "\n",
       "[5 rows x 1152 columns]"
      ]
     },
     "execution_count": 76,
     "metadata": {},
     "output_type": "execute_result"
    }
   ],
   "source": [
    "df.head()"
   ]
  },
  {
   "cell_type": "code",
   "execution_count": 80,
   "id": "ebb0d271-2da0-437c-83dc-28976787ea62",
   "metadata": {},
   "outputs": [],
   "source": [
    "import numpy as np\n",
    "import tensorflow as tf\n",
    "from keras.models import Sequential\n",
    "from keras.layers import LSTM, Dense, Dropout, BatchNormalization\n",
    "from keras.optimizers import Adam\n",
    "from keras.callbacks import EarlyStopping\n",
    "from sklearn.metrics import confusion_matrix, classification_report\n",
    "import matplotlib.pyplot as plt\n"
   ]
  },
  {
   "cell_type": "code",
   "execution_count": 82,
   "id": "bf5455b3-2070-4e5a-97ea-357dc72668bc",
   "metadata": {},
   "outputs": [],
   "source": [
    "# Set seed for reproducibility\n",
    "np.random.seed(42)\n",
    "tf.random.set_seed(42)\n"
   ]
  },
  {
   "cell_type": "markdown",
   "id": "08f472f6-ee87-41ec-baa5-268b27edc7a9",
   "metadata": {},
   "source": [
    "3. Defining Model Parameters"
   ]
  },
  {
   "cell_type": "code",
   "execution_count": 85,
   "id": "da4cbb40-e198-44df-9242-4b07b70faf88",
   "metadata": {},
   "outputs": [],
   "source": [
    "# Model parameters\n",
    "timesteps = X_train.shape[1]  # 128 timesteps\n",
    "input_dim = X_train.shape[2]  # 9 features from the combined signal files\n",
    "n_classes = 6  # 6 output classes for activity recognition\n",
    "epochs = 50  # Number of epochs to train\n",
    "batch_size = 32  # Batch size for training\n",
    "n_hidden = 64  # Number of hidden units in the LSTM layers\n"
   ]
  },
  {
   "cell_type": "markdown",
   "id": "d22e5491-a35e-4859-849b-158536f911e9",
   "metadata": {},
   "source": [
    "4. Building the LSTM Model Architecture"
   ]
  },
  {
   "cell_type": "code",
   "execution_count": 88,
   "id": "22e63462-5c93-4b1c-98c7-68b43ddf9fb6",
   "metadata": {},
   "outputs": [
    {
     "data": {
      "text/html": [
       "<pre style=\"white-space:pre;overflow-x:auto;line-height:normal;font-family:Menlo,'DejaVu Sans Mono',consolas,'Courier New',monospace\"><span style=\"font-weight: bold\">Model: \"sequential_4\"</span>\n",
       "</pre>\n"
      ],
      "text/plain": [
       "\u001b[1mModel: \"sequential_4\"\u001b[0m\n"
      ]
     },
     "metadata": {},
     "output_type": "display_data"
    },
    {
     "data": {
      "text/html": [
       "<pre style=\"white-space:pre;overflow-x:auto;line-height:normal;font-family:Menlo,'DejaVu Sans Mono',consolas,'Courier New',monospace\">┏━━━━━━━━━━━━━━━━━━━━━━━━━━━━━━━━━━━━━━┳━━━━━━━━━━━━━━━━━━━━━━━━━━━━━┳━━━━━━━━━━━━━━━━━┓\n",
       "┃<span style=\"font-weight: bold\"> Layer (type)                         </span>┃<span style=\"font-weight: bold\"> Output Shape                </span>┃<span style=\"font-weight: bold\">         Param # </span>┃\n",
       "┡━━━━━━━━━━━━━━━━━━━━━━━━━━━━━━━━━━━━━━╇━━━━━━━━━━━━━━━━━━━━━━━━━━━━━╇━━━━━━━━━━━━━━━━━┩\n",
       "│ lstm_4 (<span style=\"color: #0087ff; text-decoration-color: #0087ff\">LSTM</span>)                        │ (<span style=\"color: #00d7ff; text-decoration-color: #00d7ff\">None</span>, <span style=\"color: #00af00; text-decoration-color: #00af00\">128</span>, <span style=\"color: #00af00; text-decoration-color: #00af00\">64</span>)             │          <span style=\"color: #00af00; text-decoration-color: #00af00\">18,944</span> │\n",
       "├──────────────────────────────────────┼─────────────────────────────┼─────────────────┤\n",
       "│ dropout_6 (<span style=\"color: #0087ff; text-decoration-color: #0087ff\">Dropout</span>)                  │ (<span style=\"color: #00d7ff; text-decoration-color: #00d7ff\">None</span>, <span style=\"color: #00af00; text-decoration-color: #00af00\">128</span>, <span style=\"color: #00af00; text-decoration-color: #00af00\">64</span>)             │               <span style=\"color: #00af00; text-decoration-color: #00af00\">0</span> │\n",
       "├──────────────────────────────────────┼─────────────────────────────┼─────────────────┤\n",
       "│ batch_normalization_4                │ (<span style=\"color: #00d7ff; text-decoration-color: #00d7ff\">None</span>, <span style=\"color: #00af00; text-decoration-color: #00af00\">128</span>, <span style=\"color: #00af00; text-decoration-color: #00af00\">64</span>)             │             <span style=\"color: #00af00; text-decoration-color: #00af00\">256</span> │\n",
       "│ (<span style=\"color: #0087ff; text-decoration-color: #0087ff\">BatchNormalization</span>)                 │                             │                 │\n",
       "├──────────────────────────────────────┼─────────────────────────────┼─────────────────┤\n",
       "│ lstm_5 (<span style=\"color: #0087ff; text-decoration-color: #0087ff\">LSTM</span>)                        │ (<span style=\"color: #00d7ff; text-decoration-color: #00d7ff\">None</span>, <span style=\"color: #00af00; text-decoration-color: #00af00\">64</span>)                  │          <span style=\"color: #00af00; text-decoration-color: #00af00\">33,024</span> │\n",
       "├──────────────────────────────────────┼─────────────────────────────┼─────────────────┤\n",
       "│ dropout_7 (<span style=\"color: #0087ff; text-decoration-color: #0087ff\">Dropout</span>)                  │ (<span style=\"color: #00d7ff; text-decoration-color: #00d7ff\">None</span>, <span style=\"color: #00af00; text-decoration-color: #00af00\">64</span>)                  │               <span style=\"color: #00af00; text-decoration-color: #00af00\">0</span> │\n",
       "├──────────────────────────────────────┼─────────────────────────────┼─────────────────┤\n",
       "│ batch_normalization_5                │ (<span style=\"color: #00d7ff; text-decoration-color: #00d7ff\">None</span>, <span style=\"color: #00af00; text-decoration-color: #00af00\">64</span>)                  │             <span style=\"color: #00af00; text-decoration-color: #00af00\">256</span> │\n",
       "│ (<span style=\"color: #0087ff; text-decoration-color: #0087ff\">BatchNormalization</span>)                 │                             │                 │\n",
       "├──────────────────────────────────────┼─────────────────────────────┼─────────────────┤\n",
       "│ dense_4 (<span style=\"color: #0087ff; text-decoration-color: #0087ff\">Dense</span>)                      │ (<span style=\"color: #00d7ff; text-decoration-color: #00d7ff\">None</span>, <span style=\"color: #00af00; text-decoration-color: #00af00\">6</span>)                   │             <span style=\"color: #00af00; text-decoration-color: #00af00\">390</span> │\n",
       "└──────────────────────────────────────┴─────────────────────────────┴─────────────────┘\n",
       "</pre>\n"
      ],
      "text/plain": [
       "┏━━━━━━━━━━━━━━━━━━━━━━━━━━━━━━━━━━━━━━┳━━━━━━━━━━━━━━━━━━━━━━━━━━━━━┳━━━━━━━━━━━━━━━━━┓\n",
       "┃\u001b[1m \u001b[0m\u001b[1mLayer (type)                        \u001b[0m\u001b[1m \u001b[0m┃\u001b[1m \u001b[0m\u001b[1mOutput Shape               \u001b[0m\u001b[1m \u001b[0m┃\u001b[1m \u001b[0m\u001b[1m        Param #\u001b[0m\u001b[1m \u001b[0m┃\n",
       "┡━━━━━━━━━━━━━━━━━━━━━━━━━━━━━━━━━━━━━━╇━━━━━━━━━━━━━━━━━━━━━━━━━━━━━╇━━━━━━━━━━━━━━━━━┩\n",
       "│ lstm_4 (\u001b[38;5;33mLSTM\u001b[0m)                        │ (\u001b[38;5;45mNone\u001b[0m, \u001b[38;5;34m128\u001b[0m, \u001b[38;5;34m64\u001b[0m)             │          \u001b[38;5;34m18,944\u001b[0m │\n",
       "├──────────────────────────────────────┼─────────────────────────────┼─────────────────┤\n",
       "│ dropout_6 (\u001b[38;5;33mDropout\u001b[0m)                  │ (\u001b[38;5;45mNone\u001b[0m, \u001b[38;5;34m128\u001b[0m, \u001b[38;5;34m64\u001b[0m)             │               \u001b[38;5;34m0\u001b[0m │\n",
       "├──────────────────────────────────────┼─────────────────────────────┼─────────────────┤\n",
       "│ batch_normalization_4                │ (\u001b[38;5;45mNone\u001b[0m, \u001b[38;5;34m128\u001b[0m, \u001b[38;5;34m64\u001b[0m)             │             \u001b[38;5;34m256\u001b[0m │\n",
       "│ (\u001b[38;5;33mBatchNormalization\u001b[0m)                 │                             │                 │\n",
       "├──────────────────────────────────────┼─────────────────────────────┼─────────────────┤\n",
       "│ lstm_5 (\u001b[38;5;33mLSTM\u001b[0m)                        │ (\u001b[38;5;45mNone\u001b[0m, \u001b[38;5;34m64\u001b[0m)                  │          \u001b[38;5;34m33,024\u001b[0m │\n",
       "├──────────────────────────────────────┼─────────────────────────────┼─────────────────┤\n",
       "│ dropout_7 (\u001b[38;5;33mDropout\u001b[0m)                  │ (\u001b[38;5;45mNone\u001b[0m, \u001b[38;5;34m64\u001b[0m)                  │               \u001b[38;5;34m0\u001b[0m │\n",
       "├──────────────────────────────────────┼─────────────────────────────┼─────────────────┤\n",
       "│ batch_normalization_5                │ (\u001b[38;5;45mNone\u001b[0m, \u001b[38;5;34m64\u001b[0m)                  │             \u001b[38;5;34m256\u001b[0m │\n",
       "│ (\u001b[38;5;33mBatchNormalization\u001b[0m)                 │                             │                 │\n",
       "├──────────────────────────────────────┼─────────────────────────────┼─────────────────┤\n",
       "│ dense_4 (\u001b[38;5;33mDense\u001b[0m)                      │ (\u001b[38;5;45mNone\u001b[0m, \u001b[38;5;34m6\u001b[0m)                   │             \u001b[38;5;34m390\u001b[0m │\n",
       "└──────────────────────────────────────┴─────────────────────────────┴─────────────────┘\n"
      ]
     },
     "metadata": {},
     "output_type": "display_data"
    },
    {
     "data": {
      "text/html": [
       "<pre style=\"white-space:pre;overflow-x:auto;line-height:normal;font-family:Menlo,'DejaVu Sans Mono',consolas,'Courier New',monospace\"><span style=\"font-weight: bold\"> Total params: </span><span style=\"color: #00af00; text-decoration-color: #00af00\">52,870</span> (206.52 KB)\n",
       "</pre>\n"
      ],
      "text/plain": [
       "\u001b[1m Total params: \u001b[0m\u001b[38;5;34m52,870\u001b[0m (206.52 KB)\n"
      ]
     },
     "metadata": {},
     "output_type": "display_data"
    },
    {
     "data": {
      "text/html": [
       "<pre style=\"white-space:pre;overflow-x:auto;line-height:normal;font-family:Menlo,'DejaVu Sans Mono',consolas,'Courier New',monospace\"><span style=\"font-weight: bold\"> Trainable params: </span><span style=\"color: #00af00; text-decoration-color: #00af00\">52,614</span> (205.52 KB)\n",
       "</pre>\n"
      ],
      "text/plain": [
       "\u001b[1m Trainable params: \u001b[0m\u001b[38;5;34m52,614\u001b[0m (205.52 KB)\n"
      ]
     },
     "metadata": {},
     "output_type": "display_data"
    },
    {
     "data": {
      "text/html": [
       "<pre style=\"white-space:pre;overflow-x:auto;line-height:normal;font-family:Menlo,'DejaVu Sans Mono',consolas,'Courier New',monospace\"><span style=\"font-weight: bold\"> Non-trainable params: </span><span style=\"color: #00af00; text-decoration-color: #00af00\">256</span> (1.00 KB)\n",
       "</pre>\n"
      ],
      "text/plain": [
       "\u001b[1m Non-trainable params: \u001b[0m\u001b[38;5;34m256\u001b[0m (1.00 KB)\n"
      ]
     },
     "metadata": {},
     "output_type": "display_data"
    }
   ],
   "source": [
    "from keras.layers import Input\n",
    "\n",
    "# Defining the LSTM model\n",
    "model = Sequential()\n",
    "\n",
    "# Input layer to define the shape of the data\n",
    "model.add(Input(shape=(timesteps, input_dim)))\n",
    "\n",
    "# First LSTM Layer\n",
    "model.add(LSTM(units=n_hidden, return_sequences=True))\n",
    "model.add(Dropout(0.5))  # Add dropout for regularization\n",
    "model.add(BatchNormalization())  # Batch normalization for stability\n",
    "\n",
    "# Second LSTM Layer\n",
    "model.add(LSTM(units=n_hidden))\n",
    "model.add(Dropout(0.5))  # Dropout after second LSTM layer\n",
    "model.add(BatchNormalization())  # Batch normalization again\n",
    "\n",
    "# Dense output layer with softmax activation for multi-class classification\n",
    "model.add(Dense(n_classes, activation='softmax'))\n",
    "\n",
    "# Model summary\n",
    "model.summary()\n"
   ]
  },
  {
   "cell_type": "markdown",
   "id": "0dc6ab7e-290f-4e0d-98f8-016e57408908",
   "metadata": {},
   "source": [
    "5. Compiling the Model"
   ]
  },
  {
   "cell_type": "code",
   "execution_count": 91,
   "id": "3d41cb76-9c41-4023-be8d-025eeda0ce18",
   "metadata": {},
   "outputs": [],
   "source": [
    "# Compiling the model with Adam optimizer\n",
    "model.compile(loss='categorical_crossentropy', \n",
    "              optimizer=Adam(learning_rate=0.001), \n",
    "              metrics=['accuracy'])\n"
   ]
  },
  {
   "cell_type": "markdown",
   "id": "498b95cc-b3d5-497a-b6a1-2ba548ab6e0e",
   "metadata": {},
   "source": [
    "6. Setting Up Early Stopping to Avoid Overfitting"
   ]
  },
  {
   "cell_type": "code",
   "execution_count": 94,
   "id": "24ab1cba-843a-496a-a834-0b7b71eeca9c",
   "metadata": {},
   "outputs": [],
   "source": [
    "# Early stopping callback to stop training if validation loss does not improve\n",
    "early_stopping = EarlyStopping(monitor='val_loss', patience=5, restore_best_weights=True)\n"
   ]
  },
  {
   "cell_type": "markdown",
   "id": "945403e5-dec8-4d9b-a041-610b66e05168",
   "metadata": {},
   "source": [
    "7. Training the LSTM Model"
   ]
  },
  {
   "cell_type": "code",
   "execution_count": 97,
   "id": "c0b2d4b0-c0c8-495c-89c5-312ee53a8b2f",
   "metadata": {},
   "outputs": [],
   "source": [
    "# Shift labels if they are in the range of 1-6\n",
    "y_train -= 1\n",
    "y_test -= 1\n",
    "from keras.utils import to_categorical\n",
    "# Now apply one-hot encoding\n",
    "y_train = to_categorical(y_train, num_classes=n_classes)\n",
    "y_test = to_categorical(y_test, num_classes=n_classes)\n"
   ]
  },
  {
   "cell_type": "code",
   "execution_count": 41,
   "id": "fbe3c5e2-445e-4b60-a19d-064797c1e60e",
   "metadata": {},
   "outputs": [
    {
     "name": "stdout",
     "output_type": "stream",
     "text": [
      "Epoch 1/50\n",
      "\u001b[1m230/230\u001b[0m \u001b[32m━━━━━━━━━━━━━━━━━━━━\u001b[0m\u001b[37m\u001b[0m \u001b[1m15s\u001b[0m 50ms/step - accuracy: 0.5571 - loss: 1.1765 - val_accuracy: 0.6641 - val_loss: 1.2166\n",
      "Epoch 2/50\n",
      "\u001b[1m230/230\u001b[0m \u001b[32m━━━━━━━━━━━━━━━━━━━━\u001b[0m\u001b[37m\u001b[0m \u001b[1m11s\u001b[0m 46ms/step - accuracy: 0.8638 - loss: 0.3875 - val_accuracy: 0.8140 - val_loss: 0.5190\n",
      "Epoch 3/50\n",
      "\u001b[1m230/230\u001b[0m \u001b[32m━━━━━━━━━━━━━━━━━━━━\u001b[0m\u001b[37m\u001b[0m \u001b[1m11s\u001b[0m 48ms/step - accuracy: 0.9003 - loss: 0.2812 - val_accuracy: 0.8968 - val_loss: 0.3307\n",
      "Epoch 4/50\n",
      "\u001b[1m230/230\u001b[0m \u001b[32m━━━━━━━━━━━━━━━━━━━━\u001b[0m\u001b[37m\u001b[0m \u001b[1m11s\u001b[0m 48ms/step - accuracy: 0.9213 - loss: 0.2054 - val_accuracy: 0.8982 - val_loss: 0.3426\n",
      "Epoch 5/50\n",
      "\u001b[1m230/230\u001b[0m \u001b[32m━━━━━━━━━━━━━━━━━━━━\u001b[0m\u001b[37m\u001b[0m \u001b[1m11s\u001b[0m 47ms/step - accuracy: 0.9296 - loss: 0.1847 - val_accuracy: 0.8829 - val_loss: 0.3599\n",
      "Epoch 6/50\n",
      "\u001b[1m230/230\u001b[0m \u001b[32m━━━━━━━━━━━━━━━━━━━━\u001b[0m\u001b[37m\u001b[0m \u001b[1m11s\u001b[0m 48ms/step - accuracy: 0.9345 - loss: 0.1878 - val_accuracy: 0.8975 - val_loss: 0.3488\n",
      "Epoch 7/50\n",
      "\u001b[1m230/230\u001b[0m \u001b[32m━━━━━━━━━━━━━━━━━━━━\u001b[0m\u001b[37m\u001b[0m \u001b[1m11s\u001b[0m 46ms/step - accuracy: 0.9396 - loss: 0.1550 - val_accuracy: 0.8361 - val_loss: 0.5778\n",
      "Epoch 8/50\n",
      "\u001b[1m230/230\u001b[0m \u001b[32m━━━━━━━━━━━━━━━━━━━━\u001b[0m\u001b[37m\u001b[0m \u001b[1m11s\u001b[0m 48ms/step - accuracy: 0.9333 - loss: 0.1820 - val_accuracy: 0.9040 - val_loss: 0.2723\n",
      "Epoch 9/50\n",
      "\u001b[1m230/230\u001b[0m \u001b[32m━━━━━━━━━━━━━━━━━━━━\u001b[0m\u001b[37m\u001b[0m \u001b[1m11s\u001b[0m 47ms/step - accuracy: 0.9299 - loss: 0.1872 - val_accuracy: 0.8856 - val_loss: 0.3507\n",
      "Epoch 10/50\n",
      "\u001b[1m230/230\u001b[0m \u001b[32m━━━━━━━━━━━━━━━━━━━━\u001b[0m\u001b[37m\u001b[0m \u001b[1m11s\u001b[0m 47ms/step - accuracy: 0.9276 - loss: 0.1956 - val_accuracy: 0.9091 - val_loss: 0.2816\n",
      "Epoch 11/50\n",
      "\u001b[1m230/230\u001b[0m \u001b[32m━━━━━━━━━━━━━━━━━━━━\u001b[0m\u001b[37m\u001b[0m \u001b[1m10s\u001b[0m 45ms/step - accuracy: 0.9436 - loss: 0.1400 - val_accuracy: 0.9091 - val_loss: 0.3070\n",
      "Epoch 12/50\n",
      "\u001b[1m230/230\u001b[0m \u001b[32m━━━━━━━━━━━━━━━━━━━━\u001b[0m\u001b[37m\u001b[0m \u001b[1m11s\u001b[0m 48ms/step - accuracy: 0.9437 - loss: 0.1357 - val_accuracy: 0.9043 - val_loss: 0.3392\n",
      "Epoch 13/50\n",
      "\u001b[1m230/230\u001b[0m \u001b[32m━━━━━━━━━━━━━━━━━━━━\u001b[0m\u001b[37m\u001b[0m \u001b[1m11s\u001b[0m 46ms/step - accuracy: 0.9455 - loss: 0.1343 - val_accuracy: 0.9077 - val_loss: 0.3429\n"
     ]
    }
   ],
   "source": [
    "# Training the model\n",
    "history = model.fit(X_train, y_train,\n",
    "                    batch_size=batch_size,\n",
    "                    validation_data=(X_test, y_test),\n",
    "                    epochs=epochs,\n",
    "                    callbacks=[early_stopping])\n"
   ]
  },
  {
   "cell_type": "code",
   "execution_count": 99,
   "id": "2fce0aec-3430-4ec0-85cf-0abc66d6a303",
   "metadata": {},
   "outputs": [
    {
     "name": "stdout",
     "output_type": "stream",
     "text": [
      "\u001b[1m1/1\u001b[0m \u001b[32m━━━━━━━━━━━━━━━━━━━━\u001b[0m\u001b[37m\u001b[0m \u001b[1m0s\u001b[0m 375ms/step\n",
      "Predicted Activity: WALKING_UPSTAIRS\n",
      "Actual Activity: WALKING_DOWNSTAIRS\n"
     ]
    }
   ],
   "source": [
    "# Function to predict activity for a single sample and compare with the actual label\n",
    "def predict_and_compare(model, sample, actual_label):\n",
    "    \"\"\"\n",
    "    This function takes a pre-trained model, a single input sample,\n",
    "    and the actual label, and returns both the predicted and actual activity labels.\n",
    "\n",
    "    Parameters:\n",
    "    model (keras.Model): The trained LSTM model.\n",
    "    sample (numpy.ndarray): A single sample to predict on. Shape should be (1, timesteps, features).\n",
    "    actual_label (int): The actual label of the sample for comparison.\n",
    "\n",
    "    Returns:\n",
    "    str: Predicted activity label.\n",
    "    str: Actual activity label.\n",
    "    \"\"\"\n",
    "    # Ensure that the sample has the right shape (1, timesteps, features)\n",
    "    sample = sample.reshape(1, sample.shape[0], sample.shape[1])\n",
    "\n",
    "    # Predict the class probabilities for the input sample\n",
    "    prediction = model.predict(sample)\n",
    "\n",
    "    # Convert predicted probabilities to class label\n",
    "    predicted_class = np.argmax(prediction, axis=1)\n",
    "\n",
    "    # Map predicted and actual class index to activity labels\n",
    "    activity_labels = {\n",
    "        0: \"LAYING\",\n",
    "        1: \"SITTING\",\n",
    "        2: \"STANDING\",\n",
    "        3: \"WALKING\",\n",
    "        4: \"WALKING_DOWNSTAIRS\",\n",
    "        5: \"WALKING_UPSTAIRS\"\n",
    "    }\n",
    "\n",
    "    # Return the predicted and actual activity labels\n",
    "    predicted_activity = activity_labels[predicted_class[0]]\n",
    "    actual_activity = activity_labels[actual_label]\n",
    "\n",
    "    return predicted_activity, actual_activity\n",
    "\n",
    "# Example of using the function for a single sample\n",
    "# Let's assume `X_test[0]` is your sample and `y_test[0]` is the actual label\n",
    "sample = X_test[0]  # Replace this with the actual sample you want to predict on\n",
    "actual_label = np.argmax(y_test[0])  # Decode the actual label from one-hot encoding\n",
    "\n",
    "predicted_activity, actual_activity = predict_and_compare(model, sample, actual_label)\n",
    "\n",
    "print(f\"Predicted Activity: {predicted_activity}\")\n",
    "print(f\"Actual Activity: {actual_activity}\")\n"
   ]
  },
  {
   "cell_type": "code",
   "execution_count": 101,
   "id": "3ee6d98e-4cf8-4fb2-96c6-6f5e9d64717e",
   "metadata": {},
   "outputs": [],
   "source": [
    "from keras.layers import GRU\n",
    "# Setting seeds for reproducibility\n",
    "np.random.seed(42)\n",
    "tf.random.set_seed(42)\n",
    "\n",
    "# Hyperparameters\n",
    "n_classes = 6  # Assuming 6 activity classes\n",
    "n_hidden = 32  # Number of hidden units\n",
    "epochs = 50\n",
    "batch_size = 16\n",
    "timesteps = 128  # Assuming same time steps from the data shape\n",
    "input_dim = 9  # Number of features (e.g., from accelerometer and gyroscope data)\n",
    "\n",
    "# Early stopping callback to prevent overfitting\n",
    "early_stopping = EarlyStopping(monitor='val_loss', patience=10, restore_best_weights=True)"
   ]
  },
  {
   "cell_type": "markdown",
   "id": "3a5e3053-a5f5-4b0a-95e4-2b9c79a42efd",
   "metadata": {},
   "source": [
    "Step 2: Define the GRU Model Architecture"
   ]
  },
  {
   "cell_type": "code",
   "execution_count": 104,
   "id": "3b7081ae-ab42-4e41-aaaa-bf5bfcca72a6",
   "metadata": {},
   "outputs": [
    {
     "name": "stderr",
     "output_type": "stream",
     "text": [
      "C:\\Users\\hyshu\\anaconda3\\Lib\\site-packages\\keras\\src\\layers\\rnn\\rnn.py:204: UserWarning: Do not pass an `input_shape`/`input_dim` argument to a layer. When using Sequential models, prefer using an `Input(shape)` object as the first layer in the model instead.\n",
      "  super().__init__(**kwargs)\n"
     ]
    },
    {
     "data": {
      "text/html": [
       "<pre style=\"white-space:pre;overflow-x:auto;line-height:normal;font-family:Menlo,'DejaVu Sans Mono',consolas,'Courier New',monospace\"><span style=\"font-weight: bold\">Model: \"sequential_5\"</span>\n",
       "</pre>\n"
      ],
      "text/plain": [
       "\u001b[1mModel: \"sequential_5\"\u001b[0m\n"
      ]
     },
     "metadata": {},
     "output_type": "display_data"
    },
    {
     "data": {
      "text/html": [
       "<pre style=\"white-space:pre;overflow-x:auto;line-height:normal;font-family:Menlo,'DejaVu Sans Mono',consolas,'Courier New',monospace\">┏━━━━━━━━━━━━━━━━━━━━━━━━━━━━━━━━━━━━━━┳━━━━━━━━━━━━━━━━━━━━━━━━━━━━━┳━━━━━━━━━━━━━━━━━┓\n",
       "┃<span style=\"font-weight: bold\"> Layer (type)                         </span>┃<span style=\"font-weight: bold\"> Output Shape                </span>┃<span style=\"font-weight: bold\">         Param # </span>┃\n",
       "┡━━━━━━━━━━━━━━━━━━━━━━━━━━━━━━━━━━━━━━╇━━━━━━━━━━━━━━━━━━━━━━━━━━━━━╇━━━━━━━━━━━━━━━━━┩\n",
       "│ gru_4 (<span style=\"color: #0087ff; text-decoration-color: #0087ff\">GRU</span>)                          │ (<span style=\"color: #00d7ff; text-decoration-color: #00d7ff\">None</span>, <span style=\"color: #00af00; text-decoration-color: #00af00\">128</span>, <span style=\"color: #00af00; text-decoration-color: #00af00\">32</span>)             │           <span style=\"color: #00af00; text-decoration-color: #00af00\">4,128</span> │\n",
       "├──────────────────────────────────────┼─────────────────────────────┼─────────────────┤\n",
       "│ gru_5 (<span style=\"color: #0087ff; text-decoration-color: #0087ff\">GRU</span>)                          │ (<span style=\"color: #00d7ff; text-decoration-color: #00d7ff\">None</span>, <span style=\"color: #00af00; text-decoration-color: #00af00\">32</span>)                  │           <span style=\"color: #00af00; text-decoration-color: #00af00\">6,336</span> │\n",
       "├──────────────────────────────────────┼─────────────────────────────┼─────────────────┤\n",
       "│ dropout_8 (<span style=\"color: #0087ff; text-decoration-color: #0087ff\">Dropout</span>)                  │ (<span style=\"color: #00d7ff; text-decoration-color: #00d7ff\">None</span>, <span style=\"color: #00af00; text-decoration-color: #00af00\">32</span>)                  │               <span style=\"color: #00af00; text-decoration-color: #00af00\">0</span> │\n",
       "├──────────────────────────────────────┼─────────────────────────────┼─────────────────┤\n",
       "│ dense_5 (<span style=\"color: #0087ff; text-decoration-color: #0087ff\">Dense</span>)                      │ (<span style=\"color: #00d7ff; text-decoration-color: #00d7ff\">None</span>, <span style=\"color: #00af00; text-decoration-color: #00af00\">6</span>)                   │             <span style=\"color: #00af00; text-decoration-color: #00af00\">198</span> │\n",
       "└──────────────────────────────────────┴─────────────────────────────┴─────────────────┘\n",
       "</pre>\n"
      ],
      "text/plain": [
       "┏━━━━━━━━━━━━━━━━━━━━━━━━━━━━━━━━━━━━━━┳━━━━━━━━━━━━━━━━━━━━━━━━━━━━━┳━━━━━━━━━━━━━━━━━┓\n",
       "┃\u001b[1m \u001b[0m\u001b[1mLayer (type)                        \u001b[0m\u001b[1m \u001b[0m┃\u001b[1m \u001b[0m\u001b[1mOutput Shape               \u001b[0m\u001b[1m \u001b[0m┃\u001b[1m \u001b[0m\u001b[1m        Param #\u001b[0m\u001b[1m \u001b[0m┃\n",
       "┡━━━━━━━━━━━━━━━━━━━━━━━━━━━━━━━━━━━━━━╇━━━━━━━━━━━━━━━━━━━━━━━━━━━━━╇━━━━━━━━━━━━━━━━━┩\n",
       "│ gru_4 (\u001b[38;5;33mGRU\u001b[0m)                          │ (\u001b[38;5;45mNone\u001b[0m, \u001b[38;5;34m128\u001b[0m, \u001b[38;5;34m32\u001b[0m)             │           \u001b[38;5;34m4,128\u001b[0m │\n",
       "├──────────────────────────────────────┼─────────────────────────────┼─────────────────┤\n",
       "│ gru_5 (\u001b[38;5;33mGRU\u001b[0m)                          │ (\u001b[38;5;45mNone\u001b[0m, \u001b[38;5;34m32\u001b[0m)                  │           \u001b[38;5;34m6,336\u001b[0m │\n",
       "├──────────────────────────────────────┼─────────────────────────────┼─────────────────┤\n",
       "│ dropout_8 (\u001b[38;5;33mDropout\u001b[0m)                  │ (\u001b[38;5;45mNone\u001b[0m, \u001b[38;5;34m32\u001b[0m)                  │               \u001b[38;5;34m0\u001b[0m │\n",
       "├──────────────────────────────────────┼─────────────────────────────┼─────────────────┤\n",
       "│ dense_5 (\u001b[38;5;33mDense\u001b[0m)                      │ (\u001b[38;5;45mNone\u001b[0m, \u001b[38;5;34m6\u001b[0m)                   │             \u001b[38;5;34m198\u001b[0m │\n",
       "└──────────────────────────────────────┴─────────────────────────────┴─────────────────┘\n"
      ]
     },
     "metadata": {},
     "output_type": "display_data"
    },
    {
     "data": {
      "text/html": [
       "<pre style=\"white-space:pre;overflow-x:auto;line-height:normal;font-family:Menlo,'DejaVu Sans Mono',consolas,'Courier New',monospace\"><span style=\"font-weight: bold\"> Total params: </span><span style=\"color: #00af00; text-decoration-color: #00af00\">10,662</span> (41.65 KB)\n",
       "</pre>\n"
      ],
      "text/plain": [
       "\u001b[1m Total params: \u001b[0m\u001b[38;5;34m10,662\u001b[0m (41.65 KB)\n"
      ]
     },
     "metadata": {},
     "output_type": "display_data"
    },
    {
     "data": {
      "text/html": [
       "<pre style=\"white-space:pre;overflow-x:auto;line-height:normal;font-family:Menlo,'DejaVu Sans Mono',consolas,'Courier New',monospace\"><span style=\"font-weight: bold\"> Trainable params: </span><span style=\"color: #00af00; text-decoration-color: #00af00\">10,662</span> (41.65 KB)\n",
       "</pre>\n"
      ],
      "text/plain": [
       "\u001b[1m Trainable params: \u001b[0m\u001b[38;5;34m10,662\u001b[0m (41.65 KB)\n"
      ]
     },
     "metadata": {},
     "output_type": "display_data"
    },
    {
     "data": {
      "text/html": [
       "<pre style=\"white-space:pre;overflow-x:auto;line-height:normal;font-family:Menlo,'DejaVu Sans Mono',consolas,'Courier New',monospace\"><span style=\"font-weight: bold\"> Non-trainable params: </span><span style=\"color: #00af00; text-decoration-color: #00af00\">0</span> (0.00 B)\n",
       "</pre>\n"
      ],
      "text/plain": [
       "\u001b[1m Non-trainable params: \u001b[0m\u001b[38;5;34m0\u001b[0m (0.00 B)\n"
      ]
     },
     "metadata": {},
     "output_type": "display_data"
    }
   ],
   "source": [
    "# Define the GRU model\n",
    "model = Sequential()\n",
    "\n",
    "# Adding the GRU layers\n",
    "model.add(GRU(n_hidden, input_shape=(timesteps, input_dim), return_sequences=True))\n",
    "model.add(GRU(n_hidden))\n",
    "\n",
    "# Adding Dropout layer for regularization\n",
    "model.add(Dropout(0.5))\n",
    "\n",
    "# Dense layer for output with softmax activation\n",
    "model.add(Dense(n_classes, activation='softmax'))\n",
    "\n",
    "# Compile the model with categorical crossentropy\n",
    "model.compile(optimizer='adam', loss='categorical_crossentropy', metrics=['accuracy'])\n",
    "\n",
    "# Summary of the model\n",
    "model.summary()\n"
   ]
  },
  {
   "cell_type": "markdown",
   "id": "3a8eadc5-6f35-40d2-a800-e229c46cc835",
   "metadata": {},
   "source": [
    "Step 3: One-Hot Encoding the Labels"
   ]
  },
  {
   "cell_type": "code",
   "execution_count": 107,
   "id": "0628a30c-2a5e-4178-ab48-907312f2b57a",
   "metadata": {},
   "outputs": [
    {
     "data": {
      "text/plain": [
       "array([[0., 0., 0., 0., 1., 0.],\n",
       "       [0., 0., 0., 0., 1., 0.],\n",
       "       [0., 0., 0., 0., 1., 0.],\n",
       "       ...,\n",
       "       [0., 1., 0., 0., 0., 0.],\n",
       "       [0., 1., 0., 0., 0., 0.],\n",
       "       [0., 1., 0., 0., 0., 0.]])"
      ]
     },
     "execution_count": 107,
     "metadata": {},
     "output_type": "execute_result"
    }
   ],
   "source": [
    "y_train"
   ]
  },
  {
   "cell_type": "markdown",
   "id": "65f0a7da-566a-4b10-aef2-1ed2f1661484",
   "metadata": {},
   "source": [
    "Step 4: Training the GRU Model"
   ]
  },
  {
   "cell_type": "code",
   "execution_count": 109,
   "id": "610a3932-0961-45e3-a8c4-4f859d01c73e",
   "metadata": {},
   "outputs": [
    {
     "name": "stdout",
     "output_type": "stream",
     "text": [
      "Epoch 1/50\n",
      "\u001b[1m460/460\u001b[0m \u001b[32m━━━━━━━━━━━━━━━━━━━━\u001b[0m\u001b[37m\u001b[0m \u001b[1m20s\u001b[0m 35ms/step - accuracy: 0.4267 - loss: 1.3679 - val_accuracy: 0.5453 - val_loss: 1.0556\n",
      "Epoch 2/50\n",
      "\u001b[1m460/460\u001b[0m \u001b[32m━━━━━━━━━━━━━━━━━━━━\u001b[0m\u001b[37m\u001b[0m \u001b[1m16s\u001b[0m 34ms/step - accuracy: 0.6483 - loss: 0.8120 - val_accuracy: 0.7774 - val_loss: 0.5581\n",
      "Epoch 3/50\n",
      "\u001b[1m460/460\u001b[0m \u001b[32m━━━━━━━━━━━━━━━━━━━━\u001b[0m\u001b[37m\u001b[0m \u001b[1m16s\u001b[0m 34ms/step - accuracy: 0.8642 - loss: 0.3949 - val_accuracy: 0.8744 - val_loss: 0.3657\n",
      "Epoch 4/50\n",
      "\u001b[1m460/460\u001b[0m \u001b[32m━━━━━━━━━━━━━━━━━━━━\u001b[0m\u001b[37m\u001b[0m \u001b[1m16s\u001b[0m 35ms/step - accuracy: 0.9284 - loss: 0.2226 - val_accuracy: 0.8873 - val_loss: 0.3467\n",
      "Epoch 5/50\n",
      "\u001b[1m460/460\u001b[0m \u001b[32m━━━━━━━━━━━━━━━━━━━━\u001b[0m\u001b[37m\u001b[0m \u001b[1m16s\u001b[0m 35ms/step - accuracy: 0.9287 - loss: 0.1969 - val_accuracy: 0.8948 - val_loss: 0.3123\n",
      "Epoch 6/50\n",
      "\u001b[1m460/460\u001b[0m \u001b[32m━━━━━━━━━━━━━━━━━━━━\u001b[0m\u001b[37m\u001b[0m \u001b[1m16s\u001b[0m 34ms/step - accuracy: 0.9220 - loss: 0.2069 - val_accuracy: 0.9040 - val_loss: 0.2974\n",
      "Epoch 7/50\n",
      "\u001b[1m460/460\u001b[0m \u001b[32m━━━━━━━━━━━━━━━━━━━━\u001b[0m\u001b[37m\u001b[0m \u001b[1m16s\u001b[0m 34ms/step - accuracy: 0.9372 - loss: 0.1543 - val_accuracy: 0.9040 - val_loss: 0.2775\n",
      "Epoch 8/50\n",
      "\u001b[1m460/460\u001b[0m \u001b[32m━━━━━━━━━━━━━━━━━━━━\u001b[0m\u001b[37m\u001b[0m \u001b[1m16s\u001b[0m 34ms/step - accuracy: 0.9385 - loss: 0.1458 - val_accuracy: 0.8945 - val_loss: 0.3196\n",
      "Epoch 9/50\n",
      "\u001b[1m460/460\u001b[0m \u001b[32m━━━━━━━━━━━━━━━━━━━━\u001b[0m\u001b[37m\u001b[0m \u001b[1m17s\u001b[0m 37ms/step - accuracy: 0.9446 - loss: 0.1356 - val_accuracy: 0.8911 - val_loss: 0.3634\n",
      "Epoch 10/50\n",
      "\u001b[1m460/460\u001b[0m \u001b[32m━━━━━━━━━━━━━━━━━━━━\u001b[0m\u001b[37m\u001b[0m \u001b[1m17s\u001b[0m 36ms/step - accuracy: 0.9443 - loss: 0.1319 - val_accuracy: 0.8941 - val_loss: 0.3694\n",
      "Epoch 11/50\n",
      "\u001b[1m460/460\u001b[0m \u001b[32m━━━━━━━━━━━━━━━━━━━━\u001b[0m\u001b[37m\u001b[0m \u001b[1m16s\u001b[0m 35ms/step - accuracy: 0.9460 - loss: 0.1302 - val_accuracy: 0.8853 - val_loss: 0.3873\n",
      "Epoch 12/50\n",
      "\u001b[1m460/460\u001b[0m \u001b[32m━━━━━━━━━━━━━━━━━━━━\u001b[0m\u001b[37m\u001b[0m \u001b[1m18s\u001b[0m 38ms/step - accuracy: 0.9475 - loss: 0.1348 - val_accuracy: 0.8877 - val_loss: 0.3756\n",
      "Epoch 13/50\n",
      "\u001b[1m460/460\u001b[0m \u001b[32m━━━━━━━━━━━━━━━━━━━━\u001b[0m\u001b[37m\u001b[0m \u001b[1m15s\u001b[0m 33ms/step - accuracy: 0.9420 - loss: 0.1508 - val_accuracy: 0.8826 - val_loss: 0.3768\n",
      "Epoch 14/50\n",
      "\u001b[1m460/460\u001b[0m \u001b[32m━━━━━━━━━━━━━━━━━━━━\u001b[0m\u001b[37m\u001b[0m \u001b[1m16s\u001b[0m 35ms/step - accuracy: 0.9481 - loss: 0.1247 - val_accuracy: 0.8958 - val_loss: 0.3767\n",
      "Epoch 15/50\n",
      "\u001b[1m460/460\u001b[0m \u001b[32m━━━━━━━━━━━━━━━━━━━━\u001b[0m\u001b[37m\u001b[0m \u001b[1m17s\u001b[0m 36ms/step - accuracy: 0.9483 - loss: 0.1245 - val_accuracy: 0.8921 - val_loss: 0.4690\n",
      "Epoch 16/50\n",
      "\u001b[1m460/460\u001b[0m \u001b[32m━━━━━━━━━━━━━━━━━━━━\u001b[0m\u001b[37m\u001b[0m \u001b[1m16s\u001b[0m 35ms/step - accuracy: 0.9502 - loss: 0.1243 - val_accuracy: 0.8996 - val_loss: 0.3711\n",
      "Epoch 17/50\n",
      "\u001b[1m460/460\u001b[0m \u001b[32m━━━━━━━━━━━━━━━━━━━━\u001b[0m\u001b[37m\u001b[0m \u001b[1m16s\u001b[0m 35ms/step - accuracy: 0.9477 - loss: 0.1459 - val_accuracy: 0.9040 - val_loss: 0.3755\n"
     ]
    }
   ],
   "source": [
    "# Train the model\n",
    "history = model.fit(X_train, y_train,\n",
    "                    batch_size=batch_size,\n",
    "                    validation_data=(X_test, y_test),\n",
    "                    epochs=epochs,\n",
    "                    callbacks=[early_stopping])\n"
   ]
  },
  {
   "cell_type": "code",
   "execution_count": 111,
   "id": "b6101969-7fff-45ef-ab63-c169e36ec02e",
   "metadata": {},
   "outputs": [],
   "source": [
    "# Human Activity Recognition using GRU, LSTM, and Traditional Machine Learning"
   ]
  },
  {
   "cell_type": "code",
   "execution_count": null,
   "id": "62426068-5749-4a0e-95f1-ec252602eb8d",
   "metadata": {},
   "outputs": [],
   "source": []
  }
 ],
 "metadata": {
  "kernelspec": {
   "display_name": "Python 3 (ipykernel)",
   "language": "python",
   "name": "python3"
  },
  "language_info": {
   "codemirror_mode": {
    "name": "ipython",
    "version": 3
   },
   "file_extension": ".py",
   "mimetype": "text/x-python",
   "name": "python",
   "nbconvert_exporter": "python",
   "pygments_lexer": "ipython3",
   "version": "3.12.4"
  }
 },
 "nbformat": 4,
 "nbformat_minor": 5
}
